{
 "cells": [
  {
   "cell_type": "code",
   "execution_count": 4,
   "metadata": {},
   "outputs": [],
   "source": [
    "import pandas as pd\n",
    "data = pd.read_csv(\"/Users/kylinmao/Desktop/new_restaurant.csv\")"
   ]
  },
  {
   "cell_type": "code",
   "execution_count": 5,
   "metadata": {},
   "outputs": [],
   "source": [
    "cusine_data = pd.read_csv(\"/Users/kylinmao/Desktop/cuisine.csv\")"
   ]
  },
  {
   "cell_type": "code",
   "execution_count": 6,
   "metadata": {},
   "outputs": [],
   "source": [
    "key = []\n",
    "val = []\n",
    "for i in cusine_data['cusine']:\n",
    "    key.append(i)\n",
    "for i in cusine_data['id']:\n",
    "    val.append(i)"
   ]
  },
  {
   "cell_type": "code",
   "execution_count": 9,
   "metadata": {},
   "outputs": [],
   "source": [
    "cusine_dic = dict(zip(key,val))"
   ]
  },
  {
   "cell_type": "code",
   "execution_count": null,
   "metadata": {},
   "outputs": [],
   "source": [
    "\n",
    "data.rename(columns={'CUISINE DESCRIPTION':'CUSINE'}, inplace = True)\n",
    "data.info()"
   ]
  },
  {
   "cell_type": "code",
   "execution_count": 14,
   "metadata": {},
   "outputs": [],
   "source": [
    "data['CUSINE'] = data['CUSINE'].map(cusine_dic)"
   ]
  },
  {
   "cell_type": "code",
   "execution_count": 16,
   "metadata": {},
   "outputs": [
    {
     "name": "stdout",
     "output_type": "stream",
     "text": [
      "0         82\n",
      "1         21\n",
      "2         31\n",
      "3         56\n",
      "4         43\n",
      "          ..\n",
      "108484     2\n",
      "108485    55\n",
      "108486    14\n",
      "108487    43\n",
      "108488    58\n",
      "Name: CUSINE, Length: 108489, dtype: int64\n"
     ]
    }
   ],
   "source": [
    "print(data['CUSINE'])"
   ]
  },
  {
   "cell_type": "code",
   "execution_count": 18,
   "metadata": {},
   "outputs": [],
   "source": [
    "boro_dic = {'Manhattan':1,'Brooklyn':2,'Bronx':3,'Queens':4,'Staten Island':5}"
   ]
  },
  {
   "cell_type": "code",
   "execution_count": 19,
   "metadata": {},
   "outputs": [],
   "source": [
    "data['BORO'] = data['BORO'].map(boro_dic)"
   ]
  },
  {
   "cell_type": "code",
   "execution_count": 24,
   "metadata": {},
   "outputs": [
    {
     "name": "stdout",
     "output_type": "stream",
     "text": [
      "   Unnamed: 0              DBA  BORO BUILDING            STREET  ZIPCODE  \\\n",
      "0          57       DALLAS BBQ     4     8914      PARSONS BLVD  11432.0   \n",
      "1          64           DUNKIN     1      316  WEST   34 STREET  10001.0   \n",
      "2          83          FUSHIMI     5       17       PAGE AVENUE  10309.0   \n",
      "3          84    CORK WINE BAR     1       69   THOMPSON STREET  10012.0   \n",
      "4         100           FRESCO     1       34  EAST   52 STREET  10022.0   \n",
      "5         105     SFORNO PIZZA     1     2393          BROADWAY  10024.0   \n",
      "6         110       33 GOURMET     1      157  WEST   33 STREET  10001.0   \n",
      "7         114        YAFA CAFE     2     4415          4 AVENUE  11220.0   \n",
      "8         125       CHINA KING     1     2026  LEXINGTON AVENUE  10035.0   \n",
      "9         140  DELI ON MADISON     1      420    MADISON AVENUE  10017.0   \n",
      "\n",
      "        PHONE  CUSINE   Latitude  Longitude  \n",
      "0  7182157300      82  40.705524 -73.801531  \n",
      "1  2127602600      21  40.752494 -73.994221  \n",
      "2  7183563333      31  40.523201 -74.234873  \n",
      "3  6466698169      56  40.724352 -74.003074  \n",
      "4  2129353434      43  40.758947 -73.974324  \n",
      "5  2125801808      41  40.789378 -73.975638  \n",
      "6  2129041351      49  40.749785 -73.989811  \n",
      "7  3474643999      65  40.649672 -74.009226  \n",
      "8  2128766688      15  40.803253 -73.938248  \n",
      "9  2123086140      83  40.756881 -73.976311  \n"
     ]
    }
   ],
   "source": [
    "data[\"BORO\"] = data[\"BORO\"].astype('Int32')\n",
    "print(data.head(10))"
   ]
  },
  {
   "cell_type": "code",
   "execution_count": 25,
   "metadata": {},
   "outputs": [],
   "source": [
    "data.to_csv(\"the_new_restaurant.csv\")"
   ]
  }
 ],
 "metadata": {
  "kernelspec": {
   "display_name": "Python 3.8.3 ('base')",
   "language": "python",
   "name": "python3"
  },
  "language_info": {
   "codemirror_mode": {
    "name": "ipython",
    "version": 3
   },
   "file_extension": ".py",
   "mimetype": "text/x-python",
   "name": "python",
   "nbconvert_exporter": "python",
   "pygments_lexer": "ipython3",
   "version": "3.8.3"
  },
  "orig_nbformat": 4,
  "vscode": {
   "interpreter": {
    "hash": "3d0479c17103c1bb878001f04c73e16f292eacec68e799eb17aed9d3ca3b1a77"
   }
  }
 },
 "nbformat": 4,
 "nbformat_minor": 2
}
